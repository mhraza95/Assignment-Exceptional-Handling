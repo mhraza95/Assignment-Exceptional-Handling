{
 "cells": [
  {
   "cell_type": "markdown",
   "metadata": {},
   "source": [
    "1. Write a function to compute 5/0 and use try/except to catch the exceptions."
   ]
  },
  {
   "cell_type": "code",
   "execution_count": 2,
   "metadata": {},
   "outputs": [
    {
     "name": "stdout",
     "output_type": "stream",
     "text": [
      "division by zero\n"
     ]
    }
   ],
   "source": [
    "def ArithmeticException():\n",
    "    \n",
    "    try:\n",
    "        \n",
    "        5/0\n",
    "        \n",
    "    except ZeroDivisionError as ex:\n",
    "        \n",
    "        print(ex)\n",
    "        \n",
    "ArithmeticException()"
   ]
  },
  {
   "cell_type": "markdown",
   "metadata": {},
   "source": [
    "2. Implement a Python program to generate all sentences where subject is in\n",
    "[\"Americans\", \"Indians\"] and verb is in [\"Play\", \"watch\"] and the object is in\n",
    "[\"Baseball\",\"cricket\"]."
   ]
  },
  {
   "cell_type": "code",
   "execution_count": 4,
   "metadata": {},
   "outputs": [
    {
     "name": "stdout",
     "output_type": "stream",
     "text": [
      "Americans Play Baseball\n",
      "Americans Play Cricket\n",
      "Americans Watch Baseball\n",
      "Americans Watch Cricket\n",
      "Indians Play Baseball\n",
      "Indians Play Cricket\n",
      "Indians Watch Baseball\n",
      "Indians Watch Cricket\n"
     ]
    }
   ],
   "source": [
    "def gen_sentence():\n",
    "    \n",
    "    Subjects = [\"Americans\", \"Indians\"]\n",
    "    Verbs = [\"Play\", \"Watch\"]\n",
    "    Objects = [\"Baseball\", \"Cricket\"]\n",
    "    \n",
    "    for i in range(len(Subjects)):\n",
    "        \n",
    "        for j in range(len(Verbs)):\n",
    "            \n",
    "            for k in range(len(Objects)):\n",
    "                \n",
    "                print(\"{} {} {}\".format(Subjects[i], Verbs[j], Objects[k]))\n",
    "            \n",
    "    return\n",
    "\n",
    "gen_sentence()"
   ]
  }
 ],
 "metadata": {
  "kernelspec": {
   "display_name": "Python 3",
   "language": "python",
   "name": "python3"
  },
  "language_info": {
   "codemirror_mode": {
    "name": "ipython",
    "version": 3
   },
   "file_extension": ".py",
   "mimetype": "text/x-python",
   "name": "python",
   "nbconvert_exporter": "python",
   "pygments_lexer": "ipython3",
   "version": "3.7.4"
  }
 },
 "nbformat": 4,
 "nbformat_minor": 2
}
